{
 "cells": [
  {
   "cell_type": "markdown",
   "metadata": {},
   "source": [
    "# Solving Linear Equations vs Computing Inverses\n",
    "\n",
    "This notebook looks into computing the solution $\\bf x$ to $\\bf A x = b$ using the inverse of $\\bf A$."
   ]
  },
  {
   "cell_type": "markdown",
   "metadata": {},
   "source": [
    "## Accuracy of computing inverses\n",
    "\n",
    "First, let's study the accuracy of computing inverses. As an example, let us look at the *Hilbert matrix* $\\bf A$ given by $a_{ij} = \\frac{1}{i+j-1}$."
   ]
  },
  {
   "cell_type": "code",
   "execution_count": null,
   "metadata": {},
   "outputs": [],
   "source": [
    "import numpy as np\n",
    "from scipy.linalg import hilbert\n",
    "\n",
    "n = 5\n",
    "A = hilbert(n)\n",
    "Ainv = np.linalg.inv(A)\n",
    "I = np.eye(n)\n",
    "\n",
    "print('Machine epsilon: {}'.format(np.finfo(float).eps))\n",
    "print('Largest value in I - Ainv A: {}'.format(np.max(I - Ainv @ A)))"
   ]
  },
  {
   "cell_type": "markdown",
   "metadata": {},
   "source": [
    "Conclusion:\n",
    "- The errors are much larger than machine precision, and surprisingly large for such small matrices!\n",
    "\n",
    "*Hilbert matrices are examples of so-called ill-conditioned matrices, which we will learn more about later. Generally speaking, ill-conditioned matrices are notoriously difficult to work with numerically, and even small rounding errors have a large effect on computed results.*"
   ]
  },
  {
   "cell_type": "markdown",
   "metadata": {},
   "source": [
    "## Efficiency of computing inverses\n",
    "\n",
    "Now let us look at the computational cost of computing inverses."
   ]
  },
  {
   "cell_type": "code",
   "execution_count": null,
   "metadata": {},
   "outputs": [],
   "source": [
    "import numpy as np\n",
    "import time\n",
    "\n",
    "# Set up test problem with known solution\n",
    "n = 500\n",
    "A = np.random.rand(n, n)\n",
    "x = np.ones(n)\n",
    "b = A @ x\n",
    "\n",
    "# Computing the inverse explicitly\n",
    "t0 = time.time()\n",
    "Ainv = np.linalg.inv(A)\n",
    "x1 = Ainv @ b\n",
    "t1 = time.time() - t0\n",
    "e1 = np.linalg.norm(x-x1,2)\n",
    "\n",
    "# Using linalg.solve\n",
    "t0 = time.time()\n",
    "x2 = np.linalg.solve(A, b)\n",
    "t2 = time.time() - t0\n",
    "e2 = np.linalg.norm(x-x2,2)\n",
    "\n",
    "# Print comparison in terms of computating time and error\n",
    "s = '''Explicitly computing the inverse: {:.4f} seconds\n",
    "Using np.linalg.solve: {:.4f} seconds\n",
    "Ratio of times: {:.2f}'''.format(t1, t2, t1 / t2)\n",
    "print(s)\n",
    "print()\n",
    "\n",
    "s = '''Explicitly computing the inverse: {} \n",
    "Using np.linalg.solve: {} \n",
    "Ratio of errors: {:.2f}'''.format(e1, e2, e1 / e2)\n",
    "print(s)"
   ]
  },
  {
   "cell_type": "markdown",
   "metadata": {},
   "source": [
    "Conclusion:\n",
    "- Computing inverses explicitly is both slow and inaccurate. "
   ]
  },
  {
   "cell_type": "code",
   "execution_count": null,
   "metadata": {},
   "outputs": [],
   "source": []
  }
 ],
 "metadata": {
  "kernelspec": {
   "display_name": "Python 3 (ipykernel)",
   "language": "python",
   "name": "python3"
  },
  "language_info": {
   "codemirror_mode": {
    "name": "ipython",
    "version": 3
   },
   "file_extension": ".py",
   "mimetype": "text/x-python",
   "name": "python",
   "nbconvert_exporter": "python",
   "pygments_lexer": "ipython3",
   "version": "3.9.12"
  }
 },
 "nbformat": 4,
 "nbformat_minor": 2
}
