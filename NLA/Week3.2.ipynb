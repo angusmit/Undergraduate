{
 "cells": [
  {
   "cell_type": "markdown",
   "metadata": {},
   "source": [
    "# Accuracy of GEPP\n",
    "\n",
    "This notebook looks into the accuracy of Algorithm GEPP, and the implications of Theorem 2.11."
   ]
  },
  {
   "cell_type": "code",
   "execution_count": null,
   "metadata": {
    "collapsed": true
   },
   "outputs": [],
   "source": [
    "# Function to set up a random matrix of size n x n with condition number \n",
    "# in the 2-norm equal to kappa.\n",
    "# For more details, see the book \"Accuracy and Stability of Numerical \n",
    "# Algorithms\" by Higham, section 28.3.\n",
    "# This function uses the singular value decomposition of A.\n",
    "\n",
    "import numpy as np\n",
    "\n",
    "def randsvd(n, kappa):\n",
    "    s = np.zeros(n)\n",
    "    for i in range(n):\n",
    "        beta = kappa**(1/(n-1))\n",
    "        s[i] = beta**(-i)\n",
    "    S = np.diag(s)\n",
    "    \n",
    "    def haar(n):\n",
    "        A = np.random.randn(n, n)\n",
    "        Q, R = np.linalg.qr(A)\n",
    "        \n",
    "        for i in range(n):\n",
    "            if R[i, i] < 0:\n",
    "                Q[:, i] *= -1\n",
    "        return Q\n",
    "    \n",
    "    A = haar(n) @ S @ haar(n).T\n",
    "    return A"
   ]
  },
  {
   "cell_type": "code",
   "execution_count": null,
   "metadata": {},
   "outputs": [],
   "source": [
    "import numpy as np\n",
    "import time\n",
    "\n",
    "# Solve linear systems with varying condition numbers\n",
    "n = 100\n",
    "x = np.ones(n)\n",
    "e_x = []\n",
    "kap = []\n",
    "# Header for printing\n",
    "print('kappa    error')\n",
    "\n",
    "for k in range(3, 9):\n",
    "    kappa = 10 ** k\n",
    "    A = randsvd(n, kappa)\n",
    "    b = A @ x\n",
    "    # Computing solution with built-in solver\n",
    "    x1 = np.linalg.solve(A, b)\n",
    "    e = np.linalg.norm(x-x1,np.inf)\n",
    "    # Keep track of error and condition number for plotting\n",
    "    e_x.append(e)\n",
    "    kap.append(kappa)\n",
    "    # Print results\n",
    "    print('{:9.3g} {:9.3g}'.format(kappa, e))\n",
    "\n",
    "# Plot results\n",
    "import matplotlib.pyplot as plt\n",
    "\n",
    "plt.plot(kap,e_x)\n",
    "plt.xscale('log')\n",
    "plt.yscale('log')\n",
    "plt.xlabel('$\\kappa$')\n",
    "plt.ylabel('Error')\n",
    "plt.show();"
   ]
  }
 ],
 "metadata": {
  "kernelspec": {
   "display_name": "Python 3 (ipykernel)",
   "language": "python",
   "name": "python3"
  },
  "language_info": {
   "codemirror_mode": {
    "name": "ipython",
    "version": 3
   },
   "file_extension": ".py",
   "mimetype": "text/x-python",
   "name": "python",
   "nbconvert_exporter": "python",
   "pygments_lexer": "ipython3",
   "version": "3.9.12"
  }
 },
 "nbformat": 4,
 "nbformat_minor": 2
}
