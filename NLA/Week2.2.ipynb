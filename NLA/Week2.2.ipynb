{
 "cells": [
  {
   "cell_type": "markdown",
   "metadata": {},
   "source": [
    "## Back substitution\n",
    "\n",
    "This notebook demonstrates how to implement back substitution.\n",
    "\n",
    "**Back substitution:**\n",
    "\n",
    "*Input*: $\\bf{U}\\in\\mathbb{R}^{n\\times n}$ non-singular, upper triangular, $\\bf{y}\\in\\mathbb{R}^{n}$\n",
    "\n",
    "*Output*: $\\bf{x}\\in\\mathbb{R}^{n}$, with $\\bf{U}\\bf{x} = \\bf{y}$\n",
    "\n",
    "For $j= n,\\dots,1$\n",
    "\n",
    "$\\qquad x_j = \\frac{1}{u_{jj}} \\left(y_j - \\sum_{k=j+1}^n u_{jk} x_k \\right)$\n",
    "            \n",
    "End For"
   ]
  },
  {
   "cell_type": "code",
   "execution_count": 1,
   "metadata": {},
   "outputs": [
    {
     "name": "stdout",
     "output_type": "stream",
     "text": [
      "x = [-0.5  5.  -1. ]\n"
     ]
    }
   ],
   "source": [
    "import numpy as np\n",
    "\n",
    "\n",
    "def backsub(U,y):\n",
    "    n=U.shape[0]\n",
    "    x=np.zeros(n)\n",
    "    \n",
    "    for j in range(n-1,-1,-1):\n",
    "        x[j] = (y[j] - U[j,j+1:] @ x[j+1:]) / U[j,j]\n",
    "        \n",
    "    return x\n",
    "\n",
    "# Test the function\n",
    "U = np.array([[2, 1, 0], [0, 1, 3], [0, 0, -4]], dtype=float)\n",
    "y = np.array([4, 2, 4], dtype=float)\n",
    "x = backsub(U,y)\n",
    "print('x = {}'.format(x))"
   ]
  }
 ],
 "metadata": {
  "kernelspec": {
   "display_name": "Python 3 (ipykernel)",
   "language": "python",
   "name": "python3"
  },
  "language_info": {
   "codemirror_mode": {
    "name": "ipython",
    "version": 3
   },
   "file_extension": ".py",
   "mimetype": "text/x-python",
   "name": "python",
   "nbconvert_exporter": "python",
   "pygments_lexer": "ipython3",
   "version": "3.9.12"
  }
 },
 "nbformat": 4,
 "nbformat_minor": 2
}
