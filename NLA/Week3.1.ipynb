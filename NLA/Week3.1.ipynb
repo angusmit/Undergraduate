{
 "cells": [
  {
   "cell_type": "markdown",
   "metadata": {},
   "source": [
    "## Condition numbers\n",
    "\n",
    "This notebook investigates the condition number of typical matrices. \n",
    "\n",
    "First, let us look at random matrices."
   ]
  },
  {
   "cell_type": "code",
   "execution_count": null,
   "metadata": {},
   "outputs": [],
   "source": [
    "import numpy as np\n",
    "\n",
    "p_vals = [1, 2, np.inf]\n",
    "\n",
    "# Random matrices\n",
    "print('Random matrices: p = {}'.format(p_vals))\n",
    "Kp_rand = []\n",
    "\n",
    "# Consider a range of matrices with increasing dimension n\n",
    "for k in range(2, 11):\n",
    "    n = 2 ** k\n",
    "    A = np.random.rand(n, n)\n",
    "    \n",
    "    # Create a sublist of all 3 condition numbers for a given n\n",
    "    K = []\n",
    "    for p in p_vals:\n",
    "        K.append(np.linalg.cond(A, p))\n",
    "    \n",
    "    # Append sublist to main list\n",
    "    Kp_rand.append(K)\n",
    "    \n",
    "    # Display results\n",
    "    print('n = {}\\n{}'.format(n, K))"
   ]
  },
  {
   "cell_type": "markdown",
   "metadata": {},
   "source": [
    "Let us now consider the Hilbert matrices"
   ]
  },
  {
   "cell_type": "code",
   "execution_count": null,
   "metadata": {},
   "outputs": [],
   "source": [
    "from scipy.linalg import hilbert\n",
    "\n",
    "# Hilbert matrices\n",
    "print('\\nHilbert matrices: p = {}'.format(p_vals))\n",
    "Kp_hilb = []\n",
    "for k in range(2, 7):\n",
    "    n = 2 ** k\n",
    "    A = hilbert(n)\n",
    "    \n",
    "    # Create a sublist of all 3 cond. numbers for a given n\n",
    "    K = []\n",
    "    for p in p_vals:\n",
    "        K.append(np.linalg.cond(A, p))\n",
    "    \n",
    "    # Append sublist to main list\n",
    "    Kp_hilb.append(K)\n",
    "    \n",
    "    # Display results\n",
    "    print('n = {}\\n{}'.format(n, K))"
   ]
  }
 ],
 "metadata": {
  "kernelspec": {
   "display_name": "Python 3 (ipykernel)",
   "language": "python",
   "name": "python3"
  },
  "language_info": {
   "codemirror_mode": {
    "name": "ipython",
    "version": 3
   },
   "file_extension": ".py",
   "mimetype": "text/x-python",
   "name": "python",
   "nbconvert_exporter": "python",
   "pygments_lexer": "ipython3",
   "version": "3.9.12"
  }
 },
 "nbformat": 4,
 "nbformat_minor": 2
}
